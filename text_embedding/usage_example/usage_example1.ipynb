{
 "cells": [
  {
   "cell_type": "markdown",
   "metadata": {},
   "source": [
    "Search 이외 임베딩 활용 방법\n",
    "- use case\n",
    "    - 사용자 의도 파악\n",
    "    - 자주 묻는 질문 set\n",
    "\n",
    "=> 사용자의 인풋에 따라 다른 function이 실행될 수 있는 trigger<br>\n",
    "\n",
    "---"
   ]
  },
  {
   "cell_type": "code",
   "execution_count": 9,
   "metadata": {},
   "outputs": [],
   "source": [
    "import os\n",
    "import openai\n",
    "from openai import OpenAI\n",
    "from sklearn.cluster import KMeans\n",
    "from utils import cosine_similarity\n",
    "\n",
    "# initialize openai\n",
    "os.environ['OPENAI_API_KEY']= \"\"\n",
    "openai.api_key = os.environ[\"OPENAI_API_KEY\"]"
   ]
  },
  {
   "cell_type": "markdown",
   "metadata": {},
   "source": [
    "## 1. 사용자 의도 파악"
   ]
  },
  {
   "cell_type": "code",
   "execution_count": 10,
   "metadata": {},
   "outputs": [],
   "source": [
    "politics = [\"What are the key policies of the main political parties in the upcoming election?\",\n",
    "            \"Who do you vote for the next presedent?\",\n",
    "            \"I love the current Democratic Party.\",\n",
    "            \"What is your opinion on the president's current political move?\",\n",
    "            \"I love politics. Don't you?\"]\n",
    "\n",
    "ml = [\"How does supervised learning differ from unsupervised learning in machine learning models?\",\n",
    "      \"What are the ethical considerations of using machine learning in predictive policing?\",\n",
    "    \"How do neural networks mimic the human brain in processing data and recognizing patterns?\",\n",
    "    \"What are some examples of natural language processing?\",\n",
    "    \"Can you describe how machine learning is being utilized in personalized medicine and healthcare?\"]"
   ]
  },
  {
   "cell_type": "code",
   "execution_count": 11,
   "metadata": {},
   "outputs": [
    {
     "name": "stdout",
     "output_type": "stream",
     "text": [
      "dfdf\n"
     ]
    }
   ],
   "source": [
    "print('dfdf')"
   ]
  },
  {
   "cell_type": "code",
   "execution_count": 12,
   "metadata": {},
   "outputs": [],
   "source": [
    "def create_embeddings(txt_list):\n",
    "    client = OpenAI()\n",
    "\n",
    "    response = client.embeddings.create(\n",
    "    input=txt_list,\n",
    "    model=\"text-embedding-3-small\")\n",
    "    responses = [r.embedding for r in response.data]\n",
    "\n",
    "    return responses"
   ]
  },
  {
   "cell_type": "code",
   "execution_count": 13,
   "metadata": {},
   "outputs": [],
   "source": [
    "embeddings = politics+ml\n",
    "emb = create_embeddings(embeddings)"
   ]
  },
  {
   "cell_type": "code",
   "execution_count": 14,
   "metadata": {},
   "outputs": [
    {
     "data": {
      "text/plain": [
       "['What are the key policies of the main political parties in the upcoming election?',\n",
       " 'Who do you vote for the next presedent?',\n",
       " 'I love the current Democratic Party.',\n",
       " \"What is your opinion on the president's current political move?\",\n",
       " \"I love politics. Don't you?\",\n",
       " 'How does supervised learning differ from unsupervised learning in machine learning models?',\n",
       " 'What are the ethical considerations of using machine learning in predictive policing?',\n",
       " 'How do neural networks mimic the human brain in processing data and recognizing patterns?',\n",
       " 'What are some examples of natural language processing?',\n",
       " 'Can you describe how machine learning is being utilized in personalized medicine and healthcare?']"
      ]
     },
     "execution_count": 14,
     "metadata": {},
     "output_type": "execute_result"
    }
   ],
   "source": [
    "embeddings"
   ]
  },
  {
   "cell_type": "markdown",
   "metadata": {},
   "source": [
    "#### Clustering 활용"
   ]
  },
  {
   "cell_type": "code",
   "execution_count": 15,
   "metadata": {},
   "outputs": [],
   "source": [
    "n_clusters = 2\n",
    "kmeans = KMeans(n_clusters=n_clusters)\n",
    "clusters = kmeans.fit_predict(emb)"
   ]
  },
  {
   "cell_type": "code",
   "execution_count": 16,
   "metadata": {},
   "outputs": [
    {
     "data": {
      "text/plain": [
       "array([0, 0, 0, 0, 0, 1, 1, 1, 1, 1], dtype=int32)"
      ]
     },
     "execution_count": 16,
     "metadata": {},
     "output_type": "execute_result"
    }
   ],
   "source": [
    "clusters"
   ]
  },
  {
   "cell_type": "markdown",
   "metadata": {},
   "source": [
    "유저가 정치 관련 질문을 한 경우"
   ]
  },
  {
   "cell_type": "code",
   "execution_count": 17,
   "metadata": {},
   "outputs": [],
   "source": [
    "input_sentence = \"I would like to have a talk about politics.\"\n",
    "sent_emb = create_embeddings([input_sentence])"
   ]
  },
  {
   "cell_type": "code",
   "execution_count": 18,
   "metadata": {},
   "outputs": [
    {
     "data": {
      "text/plain": [
       "array([0], dtype=int32)"
      ]
     },
     "execution_count": 18,
     "metadata": {},
     "output_type": "execute_result"
    }
   ],
   "source": [
    "kmeans.predict(sent_emb)"
   ]
  },
  {
   "cell_type": "markdown",
   "metadata": {},
   "source": [
    "유저가 machine learning 관련 질문을 한 경우"
   ]
  },
  {
   "cell_type": "code",
   "execution_count": 19,
   "metadata": {},
   "outputs": [],
   "source": [
    "input_sentence = \"Tell me about machine learning.\"\n",
    "sent_emb = create_embeddings([input_sentence])"
   ]
  },
  {
   "cell_type": "code",
   "execution_count": 20,
   "metadata": {},
   "outputs": [
    {
     "data": {
      "text/plain": [
       "array([1], dtype=int32)"
      ]
     },
     "execution_count": 20,
     "metadata": {},
     "output_type": "execute_result"
    }
   ],
   "source": [
    "kmeans.predict(sent_emb)"
   ]
  },
  {
   "cell_type": "markdown",
   "metadata": {},
   "source": [
    "#### Similarity search를 활용"
   ]
  },
  {
   "cell_type": "code",
   "execution_count": 21,
   "metadata": {},
   "outputs": [],
   "source": [
    "politics_emb = create_embeddings(politics)\n",
    "ml_emb = create_embeddings(ml)"
   ]
  },
  {
   "cell_type": "code",
   "execution_count": 22,
   "metadata": {},
   "outputs": [],
   "source": [
    "def route_selection(emb_list, query_emb, threshold=0.5):\n",
    "    cos_sim = [cosine_similarity(i, query_emb) for i in emb_list]\n",
    "\n",
    "    threshold_filtered = [i for i in cos_sim if i>threshold]\n",
    "\n",
    "    if len(threshold_filtered)>0:\n",
    "        return True\n",
    "    else:\n",
    "        return False"
   ]
  },
  {
   "cell_type": "code",
   "execution_count": 23,
   "metadata": {},
   "outputs": [
    {
     "name": "stdout",
     "output_type": "stream",
     "text": [
      "True for politics, False for machine learning\n"
     ]
    }
   ],
   "source": [
    "input_sentence = \"I would like to have a talk about politics.\"\n",
    "sent_emb = create_embeddings([input_sentence])\n",
    "\n",
    "print(\"{} for politics, {} for machine learning\".format(route_selection(politics_emb, sent_emb[0]), route_selection(ml_emb, sent_emb[0])))"
   ]
  },
  {
   "cell_type": "code",
   "execution_count": 24,
   "metadata": {},
   "outputs": [
    {
     "name": "stdout",
     "output_type": "stream",
     "text": [
      "False for politics, False for machine learning\n"
     ]
    }
   ],
   "source": [
    "input_sentence = \"How is the weather today?\"\n",
    "sent_emb = create_embeddings([input_sentence])\n",
    "\n",
    "print(\"{} for politics, {} for machine learning\".format(route_selection(politics_emb, sent_emb[0]), route_selection(ml_emb, sent_emb[0])))"
   ]
  },
  {
   "cell_type": "code",
   "execution_count": 25,
   "metadata": {},
   "outputs": [
    {
     "name": "stdout",
     "output_type": "stream",
     "text": [
      "False for politics, True for machine learning\n"
     ]
    }
   ],
   "source": [
    "input_sentence = \"What is the best way to learn machine learning?\"\n",
    "sent_emb = create_embeddings([input_sentence])\n",
    "\n",
    "print(\"{} for politics, {} for machine learning\".format(route_selection(politics_emb, sent_emb[0]), route_selection(ml_emb, sent_emb[0], threshold=0.4)))"
   ]
  },
  {
   "cell_type": "markdown",
   "metadata": {},
   "source": [
    "Embedding을 활용하기 때문에 최소한의 input을 활용하여 clustering이 가능해짐 <br>\n",
    "##### __=> 사용자의 목적을 파악하여, 각 목적에 맞는 function 실행 가능__ (guardrails 또는 semantic router)"
   ]
  },
  {
   "cell_type": "markdown",
   "metadata": {},
   "source": [
    "## 2. 자주 묻는 질문 리스트"
   ]
  },
  {
   "cell_type": "markdown",
   "metadata": {},
   "source": [
    "1. 동일한 방식으로 자주 묻는 질문을 카테고리 별로 저장\n",
    "2. Threshold를 정해서 유사한 질문 search\n",
    "3. 유사한 질문과 연결된 정보 제공"
   ]
  },
  {
   "cell_type": "code",
   "execution_count": 26,
   "metadata": {},
   "outputs": [],
   "source": [
    "password_reset = [\"What steps should I take to recover my account without access to my registered email?\",\n",
    "                  \"Is there a way to authenticate my identity for password reset without security questions?\",\n",
    "                  \"How can I reset my password?\"]\n",
    "service_request = [\"Are there any special offers or discounts currently available?\",\n",
    "                   \"How can I compare the different plans to find one that suits my needs?\",\n",
    "                   \"Where can I see user reviews or testimonials about your services?\"]"
   ]
  },
  {
   "cell_type": "markdown",
   "metadata": {},
   "source": [
    "---"
   ]
  },
  {
   "cell_type": "markdown",
   "metadata": {},
   "source": [
    "--END--"
   ]
  }
 ],
 "metadata": {
  "kernelspec": {
   "display_name": "vecvenv",
   "language": "python",
   "name": "python3"
  },
  "language_info": {
   "codemirror_mode": {
    "name": "ipython",
    "version": 3
   },
   "file_extension": ".py",
   "mimetype": "text/x-python",
   "name": "python",
   "nbconvert_exporter": "python",
   "pygments_lexer": "ipython3",
   "version": "3.10.16"
  }
 },
 "nbformat": 4,
 "nbformat_minor": 2
}
